{
 "cells": [
  {
   "cell_type": "markdown",
   "id": "7e851e2e",
   "metadata": {},
   "source": [
    "# 🧠 Bitcoin Price Prediction Project\n",
    "\n",
    "This notebook demonstrates a simple approach to analyzing and predicting Bitcoin prices using historical data. \n",
    "We perform exploratory data analysis, examine feature correlations, and build a regression model to forecast the next day's price.\n",
    "\n",
    "---"
   ]
  },
  {
   "cell_type": "code",
   "execution_count": null,
   "metadata": {
    "id": "0fwToOFOM_CI"
   },
   "outputs": [],
   "source": [
    "import pandas as pd\n",
    "import numpy as np\n",
    "path = 'btc-usd-max.csv'\n",
    "data = pd.read_csv(path, index_col=0)"
   ]
  },
  {
   "cell_type": "markdown",
   "metadata": {},
   "source": [
    "### Generate summary statistics of the dataset"
   ]
  },
  {
   "cell_type": "code",
   "execution_count": 60,
   "metadata": {
    "colab": {
     "base_uri": "https://localhost:8080/",
     "height": 237
    },
    "id": "nzTsx49WNeWu",
    "outputId": "55454f0e-35c4-4af5-e368-9637a0c586cc"
   },
   "outputs": [
    {
     "data": {
      "text/html": [
       "<div>\n",
       "<style scoped>\n",
       "    .dataframe tbody tr th:only-of-type {\n",
       "        vertical-align: middle;\n",
       "    }\n",
       "\n",
       "    .dataframe tbody tr th {\n",
       "        vertical-align: top;\n",
       "    }\n",
       "\n",
       "    .dataframe thead th {\n",
       "        text-align: right;\n",
       "    }\n",
       "</style>\n",
       "<table border=\"1\" class=\"dataframe\">\n",
       "  <thead>\n",
       "    <tr style=\"text-align: right;\">\n",
       "      <th></th>\n",
       "      <th>price</th>\n",
       "      <th>market_cap</th>\n",
       "      <th>total_volume</th>\n",
       "    </tr>\n",
       "    <tr>\n",
       "      <th>snapped_at</th>\n",
       "      <th></th>\n",
       "      <th></th>\n",
       "      <th></th>\n",
       "    </tr>\n",
       "  </thead>\n",
       "  <tbody>\n",
       "    <tr>\n",
       "      <th>2013-04-28 00:00:00 UTC</th>\n",
       "      <td>135.30</td>\n",
       "      <td>1.500518e+09</td>\n",
       "      <td>0.0</td>\n",
       "    </tr>\n",
       "    <tr>\n",
       "      <th>2013-04-29 00:00:00 UTC</th>\n",
       "      <td>141.96</td>\n",
       "      <td>1.575032e+09</td>\n",
       "      <td>0.0</td>\n",
       "    </tr>\n",
       "    <tr>\n",
       "      <th>2013-04-30 00:00:00 UTC</th>\n",
       "      <td>135.30</td>\n",
       "      <td>1.501657e+09</td>\n",
       "      <td>0.0</td>\n",
       "    </tr>\n",
       "    <tr>\n",
       "      <th>2013-05-01 00:00:00 UTC</th>\n",
       "      <td>117.00</td>\n",
       "      <td>1.298952e+09</td>\n",
       "      <td>0.0</td>\n",
       "    </tr>\n",
       "    <tr>\n",
       "      <th>2013-05-02 00:00:00 UTC</th>\n",
       "      <td>103.43</td>\n",
       "      <td>1.148668e+09</td>\n",
       "      <td>0.0</td>\n",
       "    </tr>\n",
       "  </tbody>\n",
       "</table>\n",
       "</div>"
      ],
      "text/plain": [
       "                          price    market_cap  total_volume\n",
       "snapped_at                                                 \n",
       "2013-04-28 00:00:00 UTC  135.30  1.500518e+09           0.0\n",
       "2013-04-29 00:00:00 UTC  141.96  1.575032e+09           0.0\n",
       "2013-04-30 00:00:00 UTC  135.30  1.501657e+09           0.0\n",
       "2013-05-01 00:00:00 UTC  117.00  1.298952e+09           0.0\n",
       "2013-05-02 00:00:00 UTC  103.43  1.148668e+09           0.0"
      ]
     },
     "execution_count": 60,
     "metadata": {},
     "output_type": "execute_result"
    }
   ],
   "source": [
    "data.head(5)"
   ]
  },
  {
   "cell_type": "code",
   "execution_count": 61,
   "metadata": {
    "colab": {
     "base_uri": "https://localhost:8080/",
     "height": 300
    },
    "id": "HkqjLmoSNhSt",
    "outputId": "908bcad9-2247-41e0-a9d0-ed2a9b22087c"
   },
   "outputs": [
    {
     "data": {
      "text/html": [
       "<div>\n",
       "<style scoped>\n",
       "    .dataframe tbody tr th:only-of-type {\n",
       "        vertical-align: middle;\n",
       "    }\n",
       "\n",
       "    .dataframe tbody tr th {\n",
       "        vertical-align: top;\n",
       "    }\n",
       "\n",
       "    .dataframe thead th {\n",
       "        text-align: right;\n",
       "    }\n",
       "</style>\n",
       "<table border=\"1\" class=\"dataframe\">\n",
       "  <thead>\n",
       "    <tr style=\"text-align: right;\">\n",
       "      <th></th>\n",
       "      <th>price</th>\n",
       "      <th>market_cap</th>\n",
       "      <th>total_volume</th>\n",
       "    </tr>\n",
       "  </thead>\n",
       "  <tbody>\n",
       "    <tr>\n",
       "      <th>count</th>\n",
       "      <td>4350.000000</td>\n",
       "      <td>4.349000e+03</td>\n",
       "      <td>4.350000e+03</td>\n",
       "    </tr>\n",
       "    <tr>\n",
       "      <th>mean</th>\n",
       "      <td>18819.611942</td>\n",
       "      <td>3.594441e+11</td>\n",
       "      <td>1.687776e+10</td>\n",
       "    </tr>\n",
       "    <tr>\n",
       "      <th>std</th>\n",
       "      <td>23974.041393</td>\n",
       "      <td>4.702504e+11</td>\n",
       "      <td>2.113030e+10</td>\n",
       "    </tr>\n",
       "    <tr>\n",
       "      <th>min</th>\n",
       "      <td>67.809000</td>\n",
       "      <td>7.713681e+08</td>\n",
       "      <td>0.000000e+00</td>\n",
       "    </tr>\n",
       "    <tr>\n",
       "      <th>25%</th>\n",
       "      <td>622.992200</td>\n",
       "      <td>9.099339e+09</td>\n",
       "      <td>3.846210e+08</td>\n",
       "    </tr>\n",
       "    <tr>\n",
       "      <th>50%</th>\n",
       "      <td>8112.390822</td>\n",
       "      <td>1.419139e+11</td>\n",
       "      <td>8.045746e+09</td>\n",
       "    </tr>\n",
       "    <tr>\n",
       "      <th>75%</th>\n",
       "      <td>29409.253407</td>\n",
       "      <td>5.685135e+11</td>\n",
       "      <td>2.738961e+10</td>\n",
       "    </tr>\n",
       "    <tr>\n",
       "      <th>max</th>\n",
       "      <td>106182.236820</td>\n",
       "      <td>2.100630e+12</td>\n",
       "      <td>3.051904e+11</td>\n",
       "    </tr>\n",
       "  </tbody>\n",
       "</table>\n",
       "</div>"
      ],
      "text/plain": [
       "               price    market_cap  total_volume\n",
       "count    4350.000000  4.349000e+03  4.350000e+03\n",
       "mean    18819.611942  3.594441e+11  1.687776e+10\n",
       "std     23974.041393  4.702504e+11  2.113030e+10\n",
       "min        67.809000  7.713681e+08  0.000000e+00\n",
       "25%       622.992200  9.099339e+09  3.846210e+08\n",
       "50%      8112.390822  1.419139e+11  8.045746e+09\n",
       "75%     29409.253407  5.685135e+11  2.738961e+10\n",
       "max    106182.236820  2.100630e+12  3.051904e+11"
      ]
     },
     "execution_count": 61,
     "metadata": {},
     "output_type": "execute_result"
    }
   ],
   "source": [
    "data.describe()"
   ]
  },
  {
   "cell_type": "markdown",
   "id": "f58fc9cf",
   "metadata": {},
   "source": [
    "### Check for missing values in the dataset"
   ]
  },
  {
   "cell_type": "code",
   "execution_count": 62,
   "metadata": {
    "colab": {
     "base_uri": "https://localhost:8080/"
    },
    "id": "PRM0EtrlN3Yn",
    "outputId": "54f6f71c-a29f-4d8f-ab45-6baae6db42be"
   },
   "outputs": [
    {
     "data": {
      "text/plain": [
       "price           0\n",
       "market_cap      1\n",
       "total_volume    0\n",
       "dtype: int64"
      ]
     },
     "execution_count": 62,
     "metadata": {},
     "output_type": "execute_result"
    }
   ],
   "source": [
    "# check for missing data\n",
    "data.isnull().sum()"
   ]
  },
  {
   "cell_type": "markdown",
   "id": "244279ef",
   "metadata": {},
   "source": [
    "## 📈 Predictions vs Actual Visualization"
   ]
  },
  {
   "cell_type": "code",
   "execution_count": 63,
   "metadata": {
    "colab": {
     "base_uri": "https://localhost:8080/",
     "height": 767
    },
    "id": "1v0ZZ0vAOeey",
    "outputId": "dbc40338-49bb-40fd-e012-9d68fafde8b6"
   },
   "outputs": [
    {
     "data": {
      "image/png": "[encoded data removed]",
      "text/plain": [
       "<Figure size 1500x300 with 2 Axes>"
      ]
     },
     "metadata": {},
     "output_type": "display_data"
    },
    {
     "data": {
      "image/png": "[encoded data removed]",
      "text/plain": [
       "<Figure size 1500x300 with 2 Axes>"
      ]
     },
     "metadata": {},
     "output_type": "display_data"
    },
    {
     "data": {
      "image/png": "[encoded data removed]",
      "text/plain": [
       "<Figure size 1500x300 with 2 Axes>"
      ]
     },
     "metadata": {},
     "output_type": "display_data"
    }
   ],
   "source": [
    "# check distribution of each feature\n",
    "import matplotlib.pyplot as plt\n",
    "from matplotlib.pyplot import figure\n",
    "import seaborn as sns\n",
    "for i in data:\n",
    "        fig, axs = plt.subplots(1,2,figsize=(15, 3))\n",
    "        sns.histplot(data[i],bins=20, kde=True,ax=axs[0])\n",
    "        sns.boxplot(data[i], ax = axs[1], color='#99befd', fliersize=1);\n",
    "        plt.show()\n",
    "        plt.close()"
   ]
  },
  {
   "cell_type": "markdown",
   "id": "22289e6c",
   "metadata": {},
   "source": [
    "### Check for missing values in the dataset"
   ]
  },
  {
   "cell_type": "code",
   "execution_count": 64,
   "metadata": {
    "colab": {
     "base_uri": "https://localhost:8080/"
    },
    "id": "8V3VKTLvN8sO",
    "outputId": "41aa7746-e7c1-403e-ba85-e18d504df087"
   },
   "outputs": [
    {
     "data": {
      "text/plain": [
       "price           0\n",
       "market_cap      0\n",
       "total_volume    0\n",
       "dtype: int64"
      ]
     },
     "execution_count": 64,
     "metadata": {},
     "output_type": "execute_result"
    }
   ],
   "source": [
    "data=data.interpolate()\n",
    "data.isnull().sum()"
   ]
  },
  {
   "cell_type": "code",
   "execution_count": 66,
   "metadata": {
    "id": "aFHUPhixTPZN"
   },
   "outputs": [],
   "source": [
    "X = data.drop(['price'], axis=1)\n",
    "y = data[['price']]"
   ]
  },
  {
   "cell_type": "markdown",
   "id": "87c3b1a8",
   "metadata": {},
   "source": [
    "### Split the dataset into training and testing sets"
   ]
  },
  {
   "cell_type": "code",
   "execution_count": 67,
   "metadata": {
    "id": "3LGlB7-dUPWi"
   },
   "outputs": [],
   "source": [
    "from sklearn.model_selection import train_test_split\n",
    "\n",
    "def train_val_test_split(data, y, test_ratio):\n",
    "    val_ratio = test_ratio / (1 - test_ratio)\n",
    "    X_train, X_test, y_train, y_test = train_test_split(X, y, test_size=test_ratio, shuffle=False)\n",
    "    X_train, X_val, y_train, y_val = train_test_split(X_train, y_train, test_size=val_ratio, shuffle=False)\n",
    "    return X_train, X_val, X_test, y_train, y_val, y_test\n",
    "\n",
    "X_train, X_val, X_test, y_train, y_val, y_test = train_val_test_split(data, y, 0.2)\n"
   ]
  },
  {
   "cell_type": "code",
   "execution_count": 68,
   "metadata": {
    "colab": {
     "base_uri": "https://localhost:8080/"
    },
    "id": "-zEAbgrCVlCA",
    "outputId": "3c75a449-f3bf-4b8f-f5f6-d3f8422d7671"
   },
   "outputs": [
    {
     "name": "stdout",
     "output_type": "stream",
     "text": [
      "(2610, 2) (2610, 1)\n",
      "(870, 2) (870, 1)\n",
      "(870, 2) (870, 1)\n"
     ]
    }
   ],
   "source": [
    "print(X_train.shape, y_train.shape)\n",
    "print(X_test.shape, y_test.shape)\n",
    "print(X_val.shape, y_val.shape)"
   ]
  },
  {
   "cell_type": "code",
   "execution_count": null,
   "metadata": {
    "id": "pa1y1AS4V40p"
   },
   "outputs": [
    {
     "name": "stdout",
     "output_type": "stream",
     "text": [
      "[[85000]\n",
      " [87000]]\n"
     ]
    },
    {
     "name": "stderr",
     "output_type": "stream",
     "text": [
      "d:\\Conda\\envs\\bitenv\\lib\\site-packages\\sklearn\\utils\\validation.py:2739: UserWarning: X does not have valid feature names, but StandardScaler was fitted with feature names\n",
      "  warnings.warn(\n",
      "d:\\Conda\\envs\\bitenv\\lib\\site-packages\\sklearn\\utils\\validation.py:2739: UserWarning: X does not have valid feature names, but StandardScaler was fitted with feature names\n",
      "  warnings.warn(\n"
     ]
    },
    {
     "data": {
      "text/plain": [
       "['target_scaler.joblib']"
      ]
     },
     "execution_count": 69,
     "metadata": {},
     "output_type": "execute_result"
    },
    {
     "data": {
      "image/png": "[encoded data removed]",
      "text/plain": [
       "<Figure size 640x480 with 1 Axes>"
      ]
     },
     "metadata": {},
     "output_type": "display_data"
    }
   ],
   "source": [
    "# feature scaling \n",
    "from sklearn.preprocessing import MinMaxScaler, StandardScaler\n",
    "def get_scaler(scaler):\n",
    "    scalers = {\n",
    "        \"minmax\": MinMaxScaler,\n",
    "        \"ss\": StandardScaler\n",
    "    }\n",
    "    return scalers.get(scaler.lower())()\n",
    "scaler = get_scaler('ss')\n",
    "\n",
    "test_featuresz= [[1724854479045.6724,86960.8555491039],[1730000000000,86000]]\n",
    "test_targetsz= np.array([85000,87000]).reshape(-1,1)\n",
    "\n",
    "X_train_ = scaler.fit_transform(X_train)\n",
    "X_test_ = scaler.transform(X_test)\n",
    "X_val_ = scaler.transform(X_val)\n",
    "test_featuresz= scaler.transform(test_featuresz)\n",
    "\n",
    "import joblib\n",
    "joblib.dump(scaler, 'scaler.joblib')\n",
    "\n",
    "plt.scatter(test_featuresz[:,0],test_featuresz[:,1])\n",
    "plt.scatter(X_test_[:,0],X_test_[:,1])\n",
    "y_train_ = scaler.fit_transform(y_train)\n",
    "y_val_ = scaler.transform(y_val)\n",
    "y_test_ = scaler.transform(y_test)\n",
    "test_targetsz=scaler.transform(test_targetsz)\n",
    "import joblib\n",
    "joblib.dump(scaler, 'target_scaler.joblib')"
   ]
  },
  {
   "cell_type": "code",
   "execution_count": 70,
   "metadata": {
    "id": "txCA2lGpZ-zy"
   },
   "outputs": [
    {
     "name": "stdout",
     "output_type": "stream",
     "text": [
      "(2610, 2) (870, 2) (870, 2)\n",
      "torch.Size([4350, 2]) torch.Size([4350, 1])\n",
      "torch.Size([1740, 2]) torch.Size([1740, 1])\n",
      "torch.Size([870, 2]) torch.Size([870, 1])\n"
     ]
    }
   ],
   "source": [
    "import torch\n",
    "import torch.nn as nn\n",
    "import torch.nn.functional as F\n",
    "from torch.utils.data import TensorDataset, DataLoader\n",
    "\n",
    "batch_size = 64\n",
    "print(X_train_.shape,X_test_.shape,X_val_.shape)\n",
    "X_train_= np.concatenate((X_train_,X_test_,X_val_))\n",
    "y_train_ = np.concatenate((y_train_,y_test_,y_val_))\n",
    "train_features = torch.Tensor(X_train_)\n",
    "train_targets = torch.Tensor(y_train_)\n",
    "val_features = torch.Tensor(X_val_)\n",
    "val_targets = torch.Tensor(y_val_)\n",
    "test_features = torch.Tensor(np.concatenate((X_test_,X_val_)))\n",
    "test_targets = torch.Tensor(np.concatenate((y_test_,y_val_)))\n",
    "print(train_features.shape, train_targets.shape)\n",
    "train = TensorDataset(train_features, train_targets)\n",
    "val = TensorDataset(test_features, test_targets)\n",
    "print(test_features.shape, test_targets.shape)\n",
    "test = TensorDataset(test_features, test_targets)\n",
    "\n",
    "train_loader = DataLoader(train, batch_size=batch_size, shuffle=False, drop_last=True)\n",
    "val_loader = DataLoader(test, batch_size=batch_size, shuffle=False, drop_last=True)\n",
    "test_loader = DataLoader(test, batch_size=batch_size, shuffle=False, drop_last=True)\n",
    "test_loader_one = DataLoader(test, batch_size=batch_size, shuffle=False, drop_last=True)\n",
    "print(val_features.shape, val_targets.shape)"
   ]
  },
  {
   "cell_type": "markdown",
   "metadata": {
    "id": "75ItSecBaYaF"
   },
   "source": [
    "myLSTM class initiates a LSTM module based on PyTorch's nn.Module class.\n",
    "\n",
    "       Attributes:\n",
    "           hidden_dim (int): The number of nodes in each layer\n",
    "           layer_dim (str): The number of layers in the network\n",
    "           lstm (nn.LSTM): The LSTM model constructed with the input parameters.\n",
    "           fc (nn.Linear): The fully connected layer to convert the final state of LSTMs to our desired output shape.\n",
    "\n",
    "The __init__ method that initiates a LSTM instance.\n",
    "\n",
    "        Args:\n",
    "            input_dim (int): The number of nodes in the input layer\n",
    "            hidden_dim (int): The number of nodes in each layer\n",
    "            layer_dim (int): The number of layers in the network\n",
    "            output_dim (int): The number of nodes in the output layer\n",
    "            dropout_prob (float): The probability of nodes being dropped out\n",
    "\n",
    "        \n",
    "The forward method takes input tensor x and does forward propagation\n",
    "\n",
    "        Args:\n",
    "            x (torch.Tensor): The input tensor of the shape (batch size, sequence length, input_dim)\n",
    "\n",
    "        Returns:\n",
    "            torch.Tensor: The output tensor of the shape (batch size, output_dim)\n",
    "\n",
    "       "
   ]
  },
  {
   "cell_type": "markdown",
   "id": "f171fa3d",
   "metadata": {},
   "source": [
    "## 🤖 Model Training"
   ]
  },
  {
   "cell_type": "code",
   "execution_count": 71,
   "metadata": {
    "id": "rwL5HiEydfXi"
   },
   "outputs": [],
   "source": [
    "class myLSTM(nn.Module):\n",
    "    def __init__(self, input_dim, hidden_dim, layer_dim, output_dim, dropout_prob,device='cuda'):\n",
    "        super(myLSTM, self).__init__()\n",
    "        self.hidden_dim = hidden_dim\n",
    "        self.layer_dim = layer_dim\n",
    "        self.lstm = nn.LSTM(\n",
    "            input_dim, hidden_dim, layer_dim, batch_first=True, dropout=dropout_prob,device=device\n",
    "        )\n",
    "        # Fully connected layer\n",
    "        self.fc = nn.Linear(hidden_dim, output_dim)\n",
    "\n",
    "    def forward(self, x):\n",
    "        # Initializing hidden state for first input with zeros\n",
    "        h0 = torch.zeros(self.layer_dim, x.size(0), self.hidden_dim, device='cuda').requires_grad_()\n",
    "\n",
    "        # Initializing cell state for first input with zeros\n",
    "        c0 = torch.zeros(self.layer_dim, x.size(0), self.hidden_dim, device='cuda').requires_grad_()\n",
    "        \n",
    "        # Forward propagation by passing in the input, hidden state, and cell state into the model\n",
    "        out, (hn, cn) = self.lstm(x, (h0.detach(), c0.detach()))\n",
    "\n",
    "        # Reshaping the outputs in the shape of (batch_size, seq_length, hidden_size)\n",
    "        # so that it can fit into the fully connected layer\n",
    "        out = out[:, -1, :]\n",
    "        out = F.relu(out)\n",
    "        out = self.fc(out)\n",
    "        return out"
   ]
  },
  {
   "cell_type": "code",
   "execution_count": 72,
   "metadata": {
    "id": "Kdsp5oGQdrWP"
   },
   "outputs": [],
   "source": [
    "def get_model(model, model_params):\n",
    "    models = {\"lstm\": myLSTM }\n",
    "    return models.get(model.lower())(**model_params)"
   ]
  },
  {
   "cell_type": "code",
   "execution_count": 73,
   "metadata": {
    "id": "VUTkWuI3dvn8"
   },
   "outputs": [],
   "source": [
    "class Optimization:\n",
    "    def __init__(self, model, loss_fn, optimizer):\n",
    "        self.model = model\n",
    "        self.loss_fn = loss_fn\n",
    "        self.optimizer = optimizer\n",
    "        self.train_losses = []\n",
    "        self.val_losses = []\n",
    "        \n",
    "    def train_step(self, x, y):\n",
    "        self.model.train() # Sets model to train mode\n",
    "        yhat = self.model(x) # Makes predictions\n",
    "        loss = self.loss_fn(y, yhat) # Computes loss\n",
    "        loss.backward() # Computes gradients\n",
    "        self.optimizer.step() # Updates parameters and zeroes gradients\n",
    "        self.optimizer.zero_grad()\n",
    "        return loss.item() # Returns the loss\n",
    "\n",
    "    def train(self, train_loader, val_loader, batch_size=64, n_epochs=50, n_features=2,device='cuda'):\n",
    "        model_path = f'model2'\n",
    "\n",
    "        for epoch in range(1, n_epochs + 1):\n",
    "            batch_losses = []\n",
    "            for x_batch, y_batch in train_loader:\n",
    "                x_batch = x_batch.view([batch_size, -1, n_features]).to(device)\n",
    "                y_batch = y_batch.to(device)\n",
    "                loss = self.train_step(x_batch, y_batch)\n",
    "                batch_losses.append(loss)\n",
    "            training_loss = np.mean(batch_losses)\n",
    "            self.train_losses.append(training_loss)\n",
    "\n",
    "            with torch.no_grad():\n",
    "                batch_val_losses = []\n",
    "                for x_val, y_val in val_loader:\n",
    "                    x_val = x_val.view([batch_size, -1, n_features]).to(device)\n",
    "                    y_val = y_val.to(device)\n",
    "                    self.model.eval()\n",
    "                    yhat = self.model(x_val)\n",
    "                    val_loss = self.loss_fn(y_val, yhat).item()\n",
    "                    batch_val_losses.append(val_loss)\n",
    "                validation_loss = np.mean(batch_val_losses)\n",
    "                self.val_losses.append(validation_loss)\n",
    "\n",
    "            if (epoch <= 50) | (epoch % 100 == 0):\n",
    "                print(\n",
    "                    f\"[{epoch}/{n_epochs}] Training loss: {training_loss:.4f}\\t Validation loss: {validation_loss:.4f}\"\n",
    "                )\n",
    "\n",
    "        torch.save(self.model.state_dict(), model_path)\n",
    "\n",
    "    def evaluate(self, test_loader, batch_size=64, n_features=2,device='cuda'):\n",
    "        with torch.no_grad():\n",
    "            predictions = []\n",
    "            values = []\n",
    "            for x_test, y_test in test_loader:\n",
    "                x_test = x_test.view([batch_size, -1, n_features]).to(device)\n",
    "                y_test = y_test.to(device)\n",
    "                self.model.eval()\n",
    "                yhat = self.model(x_test)\n",
    "                predictions.append(yhat.to('cpu').detach().numpy())\n",
    "                values.append(y_test.to('cpu').detach().numpy())\n",
    "\n",
    "        return predictions, values\n",
    "\n",
    "    def plot_losses(self):\n",
    "        figure(figsize=(20, 10), dpi=80)\n",
    "        plt.plot(self.train_losses, label=\"Training loss\")\n",
    "        plt.plot(self.val_losses, label=\"Validation loss\")\n",
    "        plt.legend()\n",
    "        plt.title(\"Losses\")\n",
    "        plt.show()\n",
    "        plt.close()"
   ]
  },
  {
   "cell_type": "code",
   "execution_count": 75,
   "metadata": {
    "colab": {
     "base_uri": "https://localhost:8080/",
     "height": 1000
    },
    "id": "xO6ydwqadzvv",
    "outputId": "b02ded97-d8c5-4cf0-e219-de7fe066a78e"
   },
   "outputs": [
    {
     "name": "stdout",
     "output_type": "stream",
     "text": [
      "cuda\n",
      "[1/200] Training loss: 52.7004\t Validation loss: 128.6209\n",
      "[2/200] Training loss: 51.5725\t Validation loss: 125.0226\n",
      "[3/200] Training loss: 49.5871\t Validation loss: 118.5682\n",
      "[4/200] Training loss: 46.2418\t Validation loss: 108.4126\n",
      "[5/200] Training loss: 41.4189\t Validation loss: 95.0122\n",
      "[6/200] Training loss: 35.5585\t Validation loss: 80.4187\n",
      "[7/200] Training loss: 29.7634\t Validation loss: 66.8824\n",
      "[8/200] Training loss: 24.7318\t Validation loss: 55.6409\n",
      "[9/200] Training loss: 20.7132\t Validation loss: 46.8301\n",
      "[10/200] Training loss: 17.6723\t Validation loss: 40.1647\n",
      "[11/200] Training loss: 15.4032\t Validation loss: 35.1754\n",
      "[12/200] Training loss: 13.6767\t Validation loss: 31.4227\n",
      "[13/200] Training loss: 12.3844\t Validation loss: 28.5475\n",
      "[14/200] Training loss: 11.3571\t Validation loss: 26.2969\n",
      "[15/200] Training loss: 10.5495\t Validation loss: 24.4811\n",
      "[16/200] Training loss: 9.8559\t Validation loss: 22.9940\n",
      "[17/200] Training loss: 9.2873\t Validation loss: 21.7364\n",
      "[18/200] Training loss: 8.7918\t Validation loss: 20.6519\n",
      "[19/200] Training loss: 8.3458\t Validation loss: 19.6937\n",
      "[20/200] Training loss: 7.9590\t Validation loss: 18.8350\n",
      "[21/200] Training loss: 7.6052\t Validation loss: 18.0536\n",
      "[22/200] Training loss: 7.2763\t Validation loss: 17.3288\n",
      "[23/200] Training loss: 6.9881\t Validation loss: 16.6492\n",
      "[24/200] Training loss: 6.7095\t Validation loss: 16.0157\n",
      "[25/200] Training loss: 6.4525\t Validation loss: 15.4048\n",
      "[26/200] Training loss: 6.2026\t Validation loss: 14.8441\n",
      "[27/200] Training loss: 5.9824\t Validation loss: 14.2835\n",
      "[28/200] Training loss: 5.7639\t Validation loss: 13.7613\n",
      "[29/200] Training loss: 5.5679\t Validation loss: 13.2945\n",
      "[30/200] Training loss: 5.3772\t Validation loss: 12.8125\n",
      "[31/200] Training loss: 5.2066\t Validation loss: 12.3759\n",
      "[32/200] Training loss: 5.0397\t Validation loss: 11.9708\n",
      "[33/200] Training loss: 4.8671\t Validation loss: 11.5576\n",
      "[34/200] Training loss: 4.7088\t Validation loss: 11.1751\n",
      "[35/200] Training loss: 4.5669\t Validation loss: 10.7929\n",
      "[36/200] Training loss: 4.4306\t Validation loss: 10.4710\n",
      "[37/200] Training loss: 4.2993\t Validation loss: 10.1327\n",
      "[38/200] Training loss: 4.1713\t Validation loss: 9.8118\n",
      "[39/200] Training loss: 4.0455\t Validation loss: 9.5034\n",
      "[40/200] Training loss: 3.9245\t Validation loss: 9.1950\n",
      "[41/200] Training loss: 3.8289\t Validation loss: 8.9472\n",
      "[42/200] Training loss: 3.7140\t Validation loss: 8.6787\n",
      "[43/200] Training loss: 3.5937\t Validation loss: 8.3719\n",
      "[44/200] Training loss: 3.5169\t Validation loss: 8.1932\n",
      "[45/200] Training loss: 3.4003\t Validation loss: 7.9067\n",
      "[46/200] Training loss: 3.3177\t Validation loss: 7.6802\n",
      "[47/200] Training loss: 3.2276\t Validation loss: 7.4346\n",
      "[48/200] Training loss: 3.1484\t Validation loss: 7.2517\n",
      "[49/200] Training loss: 3.0581\t Validation loss: 7.0219\n",
      "[50/200] Training loss: 2.9730\t Validation loss: 6.8204\n",
      "[100/200] Training loss: 0.8042\t Validation loss: 1.7244\n",
      "[200/200] Training loss: 0.1042\t Validation loss: 0.0747\n"
     ]
    },
    {
     "data": {
      "image/png": "[encoded data removed]",
      "text/plain": [
       "<Figure size 1600x800 with 1 Axes>"
      ]
     },
     "metadata": {},
     "output_type": "display_data"
    }
   ],
   "source": [
    "import torch.optim as optim\n",
    "from datetime import datetime\n",
    "device = \"cuda\" if torch.cuda.is_available() else \"cpu\"\n",
    "print(device)\n",
    "input_dim = len(X_train.columns)\n",
    "output_dim = 1\n",
    "hidden_dim = 512\n",
    "layer_dim = 2\n",
    "batch_size = 64\n",
    "dropout = 0.3\n",
    "n_epochs = 200\n",
    "learning_rate = 5e-5\n",
    "weight_decay = 1e-4\n",
    "\n",
    "model_params = {'input_dim': input_dim,\n",
    "                'hidden_dim' : hidden_dim,\n",
    "                'layer_dim' : layer_dim,\n",
    "                'output_dim' : output_dim,\n",
    "                'dropout_prob' : dropout,\n",
    "                'device' : device}\n",
    "\n",
    "model = get_model('lstm', model_params)\n",
    "model.to(device)\n",
    "loss_fn = nn.MSELoss(reduction=\"mean\")\n",
    "optimizer = optim.Adam(model.parameters(), lr=learning_rate, weight_decay=weight_decay)\n",
    "\n",
    "\n",
    "opt = Optimization(model=model, loss_fn=loss_fn, optimizer=optimizer)\n",
    "\n",
    "opt.train(train_loader, val_loader, batch_size=batch_size, n_epochs=n_epochs, n_features=input_dim)\n",
    "opt.plot_losses()\n",
    "\n",
    "predictions, values = opt.evaluate(\n",
    "    test_loader_one,\n",
    "    batch_size=64,\n",
    "    n_features=input_dim\n",
    ")"
   ]
  },
  {
   "cell_type": "markdown",
   "id": "f530f9bd",
   "metadata": {},
   "source": [
    "## Model evaluation and saving"
   ]
  },
  {
   "cell_type": "code",
   "execution_count": 77,
   "metadata": {
    "colab": {
     "base_uri": "https://localhost:8080/",
     "height": 455
    },
    "id": "P9Xiu_sKeadK",
    "outputId": "d585cc7f-f6e8-4097-ec85-d30156e479a8"
   },
   "outputs": [
    {
     "data": {
      "text/html": [
       "<div>\n",
       "<style scoped>\n",
       "    .dataframe tbody tr th:only-of-type {\n",
       "        vertical-align: middle;\n",
       "    }\n",
       "\n",
       "    .dataframe tbody tr th {\n",
       "        vertical-align: top;\n",
       "    }\n",
       "\n",
       "    .dataframe thead th {\n",
       "        text-align: right;\n",
       "    }\n",
       "</style>\n",
       "<table border=\"1\" class=\"dataframe\">\n",
       "  <thead>\n",
       "    <tr style=\"text-align: right;\">\n",
       "      <th></th>\n",
       "      <th>value</th>\n",
       "      <th>prediction</th>\n",
       "    </tr>\n",
       "  </thead>\n",
       "  <tbody>\n",
       "    <tr>\n",
       "      <th>0</th>\n",
       "      <td>18562.353516</td>\n",
       "      <td>19324.291016</td>\n",
       "    </tr>\n",
       "    <tr>\n",
       "      <th>1</th>\n",
       "      <td>15742.444336</td>\n",
       "      <td>16265.046875</td>\n",
       "    </tr>\n",
       "    <tr>\n",
       "      <th>2</th>\n",
       "      <td>17594.923828</td>\n",
       "      <td>18196.218750</td>\n",
       "    </tr>\n",
       "    <tr>\n",
       "      <th>3</th>\n",
       "      <td>17080.214844</td>\n",
       "      <td>17376.218750</td>\n",
       "    </tr>\n",
       "    <tr>\n",
       "      <th>4</th>\n",
       "      <td>16797.986328</td>\n",
       "      <td>16705.855469</td>\n",
       "    </tr>\n",
       "    <tr>\n",
       "      <th>...</th>\n",
       "      <td>...</td>\n",
       "      <td>...</td>\n",
       "    </tr>\n",
       "    <tr>\n",
       "      <th>1723</th>\n",
       "      <td>19203.867188</td>\n",
       "      <td>18752.453125</td>\n",
       "    </tr>\n",
       "    <tr>\n",
       "      <th>1724</th>\n",
       "      <td>19574.824219</td>\n",
       "      <td>19291.253906</td>\n",
       "    </tr>\n",
       "    <tr>\n",
       "      <th>1725</th>\n",
       "      <td>19316.939453</td>\n",
       "      <td>19305.917969</td>\n",
       "    </tr>\n",
       "    <tr>\n",
       "      <th>1726</th>\n",
       "      <td>20095.152344</td>\n",
       "      <td>20358.689453</td>\n",
       "    </tr>\n",
       "    <tr>\n",
       "      <th>1727</th>\n",
       "      <td>20774.248047</td>\n",
       "      <td>21300.740234</td>\n",
       "    </tr>\n",
       "  </tbody>\n",
       "</table>\n",
       "<p>1728 rows × 2 columns</p>\n",
       "</div>"
      ],
      "text/plain": [
       "             value    prediction\n",
       "0     18562.353516  19324.291016\n",
       "1     15742.444336  16265.046875\n",
       "2     17594.923828  18196.218750\n",
       "3     17080.214844  17376.218750\n",
       "4     16797.986328  16705.855469\n",
       "...            ...           ...\n",
       "1723  19203.867188  18752.453125\n",
       "1724  19574.824219  19291.253906\n",
       "1725  19316.939453  19305.917969\n",
       "1726  20095.152344  20358.689453\n",
       "1727  20774.248047  21300.740234\n",
       "\n",
       "[1728 rows x 2 columns]"
      ]
     },
     "execution_count": 77,
     "metadata": {},
     "output_type": "execute_result"
    }
   ],
   "source": [
    "def inverse_transform(scaler, data, columns):\n",
    "    for col in columns:\n",
    "        data[col] = scaler.inverse_transform(data[col])\n",
    "    return data\n",
    "\n",
    "\n",
    "def format_predictions(predictions, values,scaler, data_test=None):\n",
    "    vals = np.concatenate(values, axis=0).ravel()\n",
    "    preds = np.concatenate(predictions, axis=0).ravel()\n",
    "    #data_result = pd.DataFrame(data={\"value\": vals, \"prediction\": preds}, index=data_test.head(len(vals)).index)\n",
    "    data_result = pd.DataFrame(data={\"value\": vals, \"prediction\": preds})\n",
    "    data_result = data_result.sort_index()\n",
    "    data_result = inverse_transform(scaler, data_result, [[\"value\", \"prediction\"]])\n",
    "    return data_result\n",
    "\n",
    "\n",
    "data_result = format_predictions(predictions, values, scaler, X_test)\n",
    "data_result"
   ]
  },
  {
   "cell_type": "code",
   "execution_count": 79,
   "metadata": {
    "colab": {
     "base_uri": "https://localhost:8080/"
    },
    "id": "z9g-rTHgepWv",
    "outputId": "4c984a58-bb3d-40e4-c3b4-e560c0db76d1"
   },
   "outputs": [
    {
     "name": "stdout",
     "output_type": "stream",
     "text": [
      "Mean Absolute Error:        637.7005004882812\n",
      "Root Mean Squared Error:    1070.0354550200661\n",
      "R^2 Score:                  0.9978212714195251\n"
     ]
    }
   ],
   "source": [
    "from sklearn.metrics import mean_absolute_error, mean_squared_error, r2_score\n",
    "\n",
    "def calculate_metrics(data):\n",
    "    result_metrics = {'mae' : mean_absolute_error(data.value, data.prediction),\n",
    "                      'rmse' : mean_squared_error(data.value, data.prediction) ** 0.5,\n",
    "                      'r2' : r2_score(data.value, data.prediction)}\n",
    "    \n",
    "    print(\"Mean Absolute Error:       \", result_metrics[\"mae\"])\n",
    "    print(\"Root Mean Squared Error:   \", result_metrics[\"rmse\"])\n",
    "    print(\"R^2 Score:                 \", result_metrics[\"r2\"])\n",
    "    return result_metrics\n",
    "\n",
    "result_metrics = calculate_metrics(data_result)\n"
   ]
  },
  {
   "cell_type": "code",
   "execution_count": 80,
   "metadata": {},
   "outputs": [],
   "source": [
    "def busted_format_predictions(predictions, values,  scaler):\n",
    "    vals = np.concatenate(values, axis=0).ravel()\n",
    "    preds = np.concatenate(predictions, axis=0).ravel()\n",
    "    data_result = pd.DataFrame(data={\"value\": vals, \"prediction\": preds})\n",
    "    data_result = data_result.sort_index()\n",
    "    data_result = inverse_transform(scaler, data_result, [[\"value\", \"prediction\"]])\n",
    "    return data_result"
   ]
  },
  {
   "cell_type": "code",
   "execution_count": 81,
   "metadata": {},
   "outputs": [
    {
     "name": "stdout",
     "output_type": "stream",
     "text": [
      "          value    prediction\n",
      "0  84999.992188  85872.062500\n",
      "1  87000.000000  86150.453125\n"
     ]
    }
   ],
   "source": [
    "model.eval()\n",
    "with torch.no_grad():\n",
    "    \n",
    "    \n",
    "    test_featuresz = torch.Tensor(test_featuresz)\n",
    "    test_targetsz=torch.Tensor(test_targetsz)\n",
    "    test = TensorDataset(test_featuresz, test_targetsz)\n",
    "    test_loader_one = DataLoader(test, batch_size=1, shuffle=False, drop_last=True)\n",
    "    predictions, values = opt.evaluate(\n",
    "        test_loader_one,\n",
    "        batch_size=1,\n",
    "        n_features=input_dim\n",
    "    )\n",
    "    print(format_predictions(predictions, values,scaler))"
   ]
  },
  {
   "cell_type": "code",
   "execution_count": 82,
   "metadata": {},
   "outputs": [
    {
     "name": "stdout",
     "output_type": "stream",
     "text": [
      "     value    prediction\n",
      "0  83852.0  83604.234375\n",
      "1  83592.0  83837.992188\n"
     ]
    }
   ],
   "source": [
    "test_featuresz= [[1637358764747,83164],[1652537223075,83852]]\n",
    "test_targetsz= np.array([83852,83592]).reshape(-1,1)\n",
    "test_featuresz= scaler.fit_transform(test_featuresz)\n",
    "test_targetsz=scaler.fit_transform(test_targetsz)\n",
    "model.eval()\n",
    "with torch.no_grad():\n",
    "    \n",
    "    \n",
    "    test_featuresz = torch.Tensor(test_featuresz)\n",
    "    test_targetsz=torch.Tensor(test_targetsz)\n",
    "    test = TensorDataset(test_featuresz, test_targetsz)\n",
    "    test_loader_one = DataLoader(test, batch_size=1, shuffle=False, drop_last=True)\n",
    "    predictions, values = opt.evaluate(\n",
    "        test_loader_one,\n",
    "        batch_size=1,\n",
    "        n_features=input_dim\n",
    "    )\n",
    "    print(format_predictions(predictions, values,scaler))"
   ]
  },
  {
   "cell_type": "code",
   "execution_count": 85,
   "metadata": {},
   "outputs": [],
   "source": [
    "torch.save(model.state_dict(), 'model2.pth')"
   ]
  }
 ],
 "metadata": {
  "colab": {
   "authorship_tag": "ABX9TyNdx2tOboSWnSNOWToWymFj",
   "collapsed_sections": [],
   "include_colab_link": true,
   "name": "BitcoinPricePrediction2022.ipynb",
   "provenance": []
  },
  "kernelspec": {
   "display_name": "bitenv",
   "language": "python",
   "name": "python3"
  },
  "language_info": {
   "codemirror_mode": {
    "name": "ipython",
    "version": 3
   },
   "file_extension": ".py",
   "mimetype": "text/x-python",
   "name": "python",
   "nbconvert_exporter": "python",
   "pygments_lexer": "ipython3",
   "version": "3.9.15"
  }
 },
 "nbformat": 4,
 "nbformat_minor": 0
}
