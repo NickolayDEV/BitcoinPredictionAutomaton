{
 "cells": [
  {
   "cell_type": "markdown",
   "id": "7e851e2e",
   "metadata": {},
   "source": [
    "# 🧠 Bitcoin Price Prediction Project\n",
    "\n",
    "This notebook demonstrates a simple approach to analyzing and predicting Bitcoin prices using historical data. \n",
    "We perform exploratory data analysis, examine feature correlations, and build a regression model to forecast the next day's price.\n",
    "\n",
    "---"
   ]
  },
  {
   "cell_type": "code",
   "execution_count": 123,
   "metadata": {
    "id": "0fwToOFOM_CI"
   },
   "outputs": [],
   "source": [
    "import pandas as pd\n",
    "import numpy as np\n",
    "path = 'data//raw//btc-usd-max.csv'\n",
    "data = pd.read_csv(path, index_col=0)"
   ]
  },
  {
   "cell_type": "markdown",
   "metadata": {},
   "source": [
    "### Generate summary statistics of the dataset"
   ]
  },
  {
   "cell_type": "code",
   "execution_count": 124,
   "metadata": {
    "colab": {
     "base_uri": "https://localhost:8080/",
     "height": 237
    },
    "id": "nzTsx49WNeWu",
    "outputId": "55454f0e-35c4-4af5-e368-9637a0c586cc"
   },
   "outputs": [
    {
     "data": {
      "text/html": [
       "<div>\n",
       "<style scoped>\n",
       "    .dataframe tbody tr th:only-of-type {\n",
       "        vertical-align: middle;\n",
       "    }\n",
       "\n",
       "    .dataframe tbody tr th {\n",
       "        vertical-align: top;\n",
       "    }\n",
       "\n",
       "    .dataframe thead th {\n",
       "        text-align: right;\n",
       "    }\n",
       "</style>\n",
       "<table border=\"1\" class=\"dataframe\">\n",
       "  <thead>\n",
       "    <tr style=\"text-align: right;\">\n",
       "      <th></th>\n",
       "      <th>price</th>\n",
       "      <th>market_cap</th>\n",
       "      <th>total_volume</th>\n",
       "    </tr>\n",
       "    <tr>\n",
       "      <th>snapped_at</th>\n",
       "      <th></th>\n",
       "      <th></th>\n",
       "      <th></th>\n",
       "    </tr>\n",
       "  </thead>\n",
       "  <tbody>\n",
       "    <tr>\n",
       "      <th>2025-07-06 00:00:00 UTC</th>\n",
       "      <td>108217.468500</td>\n",
       "      <td>2.152344e+12</td>\n",
       "      <td>1.004294e+10</td>\n",
       "    </tr>\n",
       "    <tr>\n",
       "      <th>2025-07-07 00:00:00 UTC</th>\n",
       "      <td>109215.197718</td>\n",
       "      <td>2.171498e+12</td>\n",
       "      <td>1.463867e+10</td>\n",
       "    </tr>\n",
       "    <tr>\n",
       "      <th>2025-07-08 00:00:00 UTC</th>\n",
       "      <td>108300.716758</td>\n",
       "      <td>2.153778e+12</td>\n",
       "      <td>2.549325e+10</td>\n",
       "    </tr>\n",
       "    <tr>\n",
       "      <th>2025-07-09 00:00:00 UTC</th>\n",
       "      <td>108953.191877</td>\n",
       "      <td>2.167049e+12</td>\n",
       "      <td>2.048887e+10</td>\n",
       "    </tr>\n",
       "    <tr>\n",
       "      <th>2025-07-10 00:00:00 UTC</th>\n",
       "      <td>111327.530542</td>\n",
       "      <td>2.215211e+12</td>\n",
       "      <td>3.707846e+10</td>\n",
       "    </tr>\n",
       "  </tbody>\n",
       "</table>\n",
       "</div>"
      ],
      "text/plain": [
       "                                 price    market_cap  total_volume\n",
       "snapped_at                                                        \n",
       "2025-07-06 00:00:00 UTC  108217.468500  2.152344e+12  1.004294e+10\n",
       "2025-07-07 00:00:00 UTC  109215.197718  2.171498e+12  1.463867e+10\n",
       "2025-07-08 00:00:00 UTC  108300.716758  2.153778e+12  2.549325e+10\n",
       "2025-07-09 00:00:00 UTC  108953.191877  2.167049e+12  2.048887e+10\n",
       "2025-07-10 00:00:00 UTC  111327.530542  2.215211e+12  3.707846e+10"
      ]
     },
     "execution_count": 124,
     "metadata": {},
     "output_type": "execute_result"
    }
   ],
   "source": [
    "data.tail(5)\n"
   ]
  },
  {
   "cell_type": "code",
   "execution_count": 125,
   "metadata": {
    "colab": {
     "base_uri": "https://localhost:8080/",
     "height": 300
    },
    "id": "HkqjLmoSNhSt",
    "outputId": "908bcad9-2247-41e0-a9d0-ed2a9b22087c"
   },
   "outputs": [
    {
     "data": {
      "text/html": [
       "<div>\n",
       "<style scoped>\n",
       "    .dataframe tbody tr th:only-of-type {\n",
       "        vertical-align: middle;\n",
       "    }\n",
       "\n",
       "    .dataframe tbody tr th {\n",
       "        vertical-align: top;\n",
       "    }\n",
       "\n",
       "    .dataframe thead th {\n",
       "        text-align: right;\n",
       "    }\n",
       "</style>\n",
       "<table border=\"1\" class=\"dataframe\">\n",
       "  <thead>\n",
       "    <tr style=\"text-align: right;\">\n",
       "      <th></th>\n",
       "      <th>price</th>\n",
       "      <th>market_cap</th>\n",
       "      <th>total_volume</th>\n",
       "    </tr>\n",
       "  </thead>\n",
       "  <tbody>\n",
       "    <tr>\n",
       "      <th>count</th>\n",
       "      <td>4455.000000</td>\n",
       "      <td>4.455000e+03</td>\n",
       "      <td>4.455000e+03</td>\n",
       "    </tr>\n",
       "    <tr>\n",
       "      <th>mean</th>\n",
       "      <td>20705.377037</td>\n",
       "      <td>3.971762e+11</td>\n",
       "      <td>1.715767e+10</td>\n",
       "    </tr>\n",
       "    <tr>\n",
       "      <th>std</th>\n",
       "      <td>26663.194440</td>\n",
       "      <td>5.254315e+11</td>\n",
       "      <td>2.066865e+10</td>\n",
       "    </tr>\n",
       "    <tr>\n",
       "      <th>min</th>\n",
       "      <td>67.809000</td>\n",
       "      <td>7.713681e+08</td>\n",
       "      <td>0.000000e+00</td>\n",
       "    </tr>\n",
       "    <tr>\n",
       "      <th>25%</th>\n",
       "      <td>635.893150</td>\n",
       "      <td>9.390701e+09</td>\n",
       "      <td>4.270404e+08</td>\n",
       "    </tr>\n",
       "    <tr>\n",
       "      <th>50%</th>\n",
       "      <td>8405.560563</td>\n",
       "      <td>1.475289e+11</td>\n",
       "      <td>9.786025e+09</td>\n",
       "    </tr>\n",
       "    <tr>\n",
       "      <th>75%</th>\n",
       "      <td>31552.123659</td>\n",
       "      <td>5.978800e+11</td>\n",
       "      <td>2.785896e+10</td>\n",
       "    </tr>\n",
       "    <tr>\n",
       "      <th>max</th>\n",
       "      <td>111560.356938</td>\n",
       "      <td>2.215211e+12</td>\n",
       "      <td>1.904603e+11</td>\n",
       "    </tr>\n",
       "  </tbody>\n",
       "</table>\n",
       "</div>"
      ],
      "text/plain": [
       "               price    market_cap  total_volume\n",
       "count    4455.000000  4.455000e+03  4.455000e+03\n",
       "mean    20705.377037  3.971762e+11  1.715767e+10\n",
       "std     26663.194440  5.254315e+11  2.066865e+10\n",
       "min        67.809000  7.713681e+08  0.000000e+00\n",
       "25%       635.893150  9.390701e+09  4.270404e+08\n",
       "50%      8405.560563  1.475289e+11  9.786025e+09\n",
       "75%     31552.123659  5.978800e+11  2.785896e+10\n",
       "max    111560.356938  2.215211e+12  1.904603e+11"
      ]
     },
     "execution_count": 125,
     "metadata": {},
     "output_type": "execute_result"
    }
   ],
   "source": [
    "data.describe()"
   ]
  },
  {
   "cell_type": "markdown",
   "id": "f58fc9cf",
   "metadata": {},
   "source": [
    "### Check for missing values in the dataset"
   ]
  },
  {
   "cell_type": "code",
   "execution_count": 126,
   "metadata": {
    "colab": {
     "base_uri": "https://localhost:8080/"
    },
    "id": "PRM0EtrlN3Yn",
    "outputId": "54f6f71c-a29f-4d8f-ab45-6baae6db42be"
   },
   "outputs": [
    {
     "data": {
      "text/plain": [
       "price           0\n",
       "market_cap      0\n",
       "total_volume    0\n",
       "dtype: int64"
      ]
     },
     "execution_count": 126,
     "metadata": {},
     "output_type": "execute_result"
    }
   ],
   "source": [
    "# check for missing data\n",
    "data.isnull().sum()"
   ]
  },
  {
   "cell_type": "code",
   "execution_count": 127,
   "metadata": {},
   "outputs": [
    {
     "data": {
      "text/html": [
       "<div>\n",
       "<style scoped>\n",
       "    .dataframe tbody tr th:only-of-type {\n",
       "        vertical-align: middle;\n",
       "    }\n",
       "\n",
       "    .dataframe tbody tr th {\n",
       "        vertical-align: top;\n",
       "    }\n",
       "\n",
       "    .dataframe thead th {\n",
       "        text-align: right;\n",
       "    }\n",
       "</style>\n",
       "<table border=\"1\" class=\"dataframe\">\n",
       "  <thead>\n",
       "    <tr style=\"text-align: right;\">\n",
       "      <th></th>\n",
       "      <th>price</th>\n",
       "      <th>market_cap</th>\n",
       "      <th>total_volume</th>\n",
       "      <th>previous_price</th>\n",
       "    </tr>\n",
       "  </thead>\n",
       "  <tbody>\n",
       "    <tr>\n",
       "      <th>0</th>\n",
       "      <td>4.962565</td>\n",
       "      <td>21.177541</td>\n",
       "      <td>0.0</td>\n",
       "      <td>4.914858</td>\n",
       "    </tr>\n",
       "    <tr>\n",
       "      <th>1</th>\n",
       "      <td>4.914858</td>\n",
       "      <td>21.129835</td>\n",
       "      <td>0.0</td>\n",
       "      <td>4.962565</td>\n",
       "    </tr>\n",
       "    <tr>\n",
       "      <th>2</th>\n",
       "      <td>4.770685</td>\n",
       "      <td>20.984823</td>\n",
       "      <td>0.0</td>\n",
       "      <td>4.914858</td>\n",
       "    </tr>\n",
       "    <tr>\n",
       "      <th>3</th>\n",
       "      <td>4.648517</td>\n",
       "      <td>20.861869</td>\n",
       "      <td>0.0</td>\n",
       "      <td>4.770685</td>\n",
       "    </tr>\n",
       "    <tr>\n",
       "      <th>4</th>\n",
       "      <td>4.521897</td>\n",
       "      <td>20.734272</td>\n",
       "      <td>0.0</td>\n",
       "      <td>4.648517</td>\n",
       "    </tr>\n",
       "  </tbody>\n",
       "</table>\n",
       "</div>"
      ],
      "text/plain": [
       "      price  market_cap  total_volume  previous_price\n",
       "0  4.962565   21.177541           0.0        4.914858\n",
       "1  4.914858   21.129835           0.0        4.962565\n",
       "2  4.770685   20.984823           0.0        4.914858\n",
       "3  4.648517   20.861869           0.0        4.770685\n",
       "4  4.521897   20.734272           0.0        4.648517"
      ]
     },
     "execution_count": 127,
     "metadata": {},
     "output_type": "execute_result"
    }
   ],
   "source": [
    "data['previous_price'] = data['price'].shift(1)\n",
    "\n",
    "data = data.dropna(subset=['previous_price']).reset_index(drop=True)\n",
    "\n",
    "data['price'] = np.log1p(data['price'])\n",
    "data['previous_price'] = np.log1p(data['previous_price'])\n",
    "data['market_cap'] = np.log1p(data['market_cap'])\n",
    "data['total_volume'] = np.log1p(data['total_volume'])\n",
    "\n",
    "# Посмотрим на результат\n",
    "data.head()\n"
   ]
  },
  {
   "cell_type": "markdown",
   "id": "244279ef",
   "metadata": {},
   "source": [
    "## 📈 Predictions vs Actual Visualization"
   ]
  },
  {
   "cell_type": "code",
   "execution_count": 128,
   "metadata": {
    "colab": {
     "base_uri": "https://localhost:8080/",
     "height": 767
    },
    "id": "1v0ZZ0vAOeey",
    "outputId": "dbc40338-49bb-40fd-e012-9d68fafde8b6"
   },
   "outputs": [
    {
     "data": {
      "image/png": "[encoded data removed]",
      "text/plain": [
       "<Figure size 1500x300 with 2 Axes>"
      ]
     },
     "metadata": {},
     "output_type": "display_data"
    },
    {
     "data": {
      "image/png": "[encoded data removed]",
      "text/plain": [
       "<Figure size 1500x300 with 2 Axes>"
      ]
     },
     "metadata": {},
     "output_type": "display_data"
    },
    {
     "data": {
      "image/png": "[encoded data removed]",
      "text/plain": [
       "<Figure size 1500x300 with 2 Axes>"
      ]
     },
     "metadata": {},
     "output_type": "display_data"
    },
    {
     "data": {
      "image/png": "[encoded data removed]",
      "text/plain": [
       "<Figure size 1500x300 with 2 Axes>"
      ]
     },
     "metadata": {},
     "output_type": "display_data"
    }
   ],
   "source": [
    "# check distribution of each feature\n",
    "import matplotlib.pyplot as plt\n",
    "from matplotlib.pyplot import figure\n",
    "import seaborn as sns\n",
    "for i in data:\n",
    "        fig, axs = plt.subplots(1,2,figsize=(15, 3))\n",
    "        sns.histplot(data[i],bins=20, kde=True,ax=axs[0])\n",
    "        sns.boxplot(data[i], ax = axs[1], color='#99befd', fliersize=1);\n",
    "        plt.show()\n",
    "        plt.close()"
   ]
  },
  {
   "cell_type": "markdown",
   "id": "22289e6c",
   "metadata": {},
   "source": [
    "### Check for missing values in the dataset"
   ]
  },
  {
   "cell_type": "code",
   "execution_count": 129,
   "metadata": {
    "colab": {
     "base_uri": "https://localhost:8080/"
    },
    "id": "8V3VKTLvN8sO",
    "outputId": "41aa7746-e7c1-403e-ba85-e18d504df087"
   },
   "outputs": [
    {
     "data": {
      "text/plain": [
       "price             0\n",
       "market_cap        0\n",
       "total_volume      0\n",
       "previous_price    0\n",
       "dtype: int64"
      ]
     },
     "execution_count": 129,
     "metadata": {},
     "output_type": "execute_result"
    }
   ],
   "source": [
    "data=data.interpolate()\n",
    "data.isnull().sum()"
   ]
  },
  {
   "cell_type": "code",
   "execution_count": 130,
   "metadata": {
    "id": "aFHUPhixTPZN"
   },
   "outputs": [
    {
     "data": {
      "text/html": [
       "<div>\n",
       "<style scoped>\n",
       "    .dataframe tbody tr th:only-of-type {\n",
       "        vertical-align: middle;\n",
       "    }\n",
       "\n",
       "    .dataframe tbody tr th {\n",
       "        vertical-align: top;\n",
       "    }\n",
       "\n",
       "    .dataframe thead th {\n",
       "        text-align: right;\n",
       "    }\n",
       "</style>\n",
       "<table border=\"1\" class=\"dataframe\">\n",
       "  <thead>\n",
       "    <tr style=\"text-align: right;\">\n",
       "      <th></th>\n",
       "      <th>price</th>\n",
       "    </tr>\n",
       "  </thead>\n",
       "  <tbody>\n",
       "    <tr>\n",
       "      <th>0</th>\n",
       "      <td>4.962565</td>\n",
       "    </tr>\n",
       "    <tr>\n",
       "      <th>1</th>\n",
       "      <td>4.914858</td>\n",
       "    </tr>\n",
       "    <tr>\n",
       "      <th>2</th>\n",
       "      <td>4.770685</td>\n",
       "    </tr>\n",
       "    <tr>\n",
       "      <th>3</th>\n",
       "      <td>4.648517</td>\n",
       "    </tr>\n",
       "    <tr>\n",
       "      <th>4</th>\n",
       "      <td>4.521897</td>\n",
       "    </tr>\n",
       "  </tbody>\n",
       "</table>\n",
       "</div>"
      ],
      "text/plain": [
       "      price\n",
       "0  4.962565\n",
       "1  4.914858\n",
       "2  4.770685\n",
       "3  4.648517\n",
       "4  4.521897"
      ]
     },
     "execution_count": 130,
     "metadata": {},
     "output_type": "execute_result"
    }
   ],
   "source": [
    "X = data.drop(['price'], axis=1)\n",
    "y = data[['price']]\n",
    "y.head()"
   ]
  },
  {
   "cell_type": "markdown",
   "id": "87c3b1a8",
   "metadata": {},
   "source": [
    "### Split the dataset into training and testing sets"
   ]
  },
  {
   "cell_type": "code",
   "execution_count": 131,
   "metadata": {
    "id": "3LGlB7-dUPWi"
   },
   "outputs": [],
   "source": [
    "from sklearn.model_selection import train_test_split\n",
    "\n",
    "def train_val_test_split(data, y, test_ratio):\n",
    "    val_ratio = test_ratio / (1 - test_ratio)\n",
    "    X_train, X_test, y_train, y_test = train_test_split(X, y, test_size=test_ratio, shuffle=False)\n",
    "    X_train, X_val, y_train, y_val = train_test_split(X_train, y_train, test_size=val_ratio, shuffle=False)\n",
    "    return X_train, X_val, X_test, y_train, y_val, y_test\n",
    "\n",
    "X_train, X_val, X_test, y_train, y_val, y_test = train_val_test_split(data, y, 0.2)\n"
   ]
  },
  {
   "cell_type": "code",
   "execution_count": 132,
   "metadata": {
    "colab": {
     "base_uri": "https://localhost:8080/"
    },
    "id": "-zEAbgrCVlCA",
    "outputId": "3c75a449-f3bf-4b8f-f5f6-d3f8422d7671"
   },
   "outputs": [
    {
     "name": "stdout",
     "output_type": "stream",
     "text": [
      "(2672, 3) (2672, 1)\n",
      "(891, 3) (891, 1)\n",
      "(891, 3) (891, 1)\n",
      "      market_cap  total_volume  previous_price\n",
      "0      21.177541      0.000000        4.914858\n",
      "1      21.129835      0.000000        4.962565\n",
      "2      20.984823      0.000000        4.914858\n",
      "3      20.861869      0.000000        4.770685\n",
      "4      20.734272      0.000000        4.648517\n",
      "...          ...           ...             ...\n",
      "2667   26.121339     23.935146        9.415195\n",
      "2668   26.101596     23.875326        9.388538\n",
      "2669   26.112543     23.736511        9.370270\n",
      "2670   26.084073     23.876273        9.381166\n",
      "2671   26.096884     23.697406        9.351503\n",
      "\n",
      "[2672 rows x 3 columns]          price\n",
      "0     4.962565\n",
      "1     4.914858\n",
      "2     4.770685\n",
      "3     4.648517\n",
      "4     4.521897\n",
      "...        ...\n",
      "2667  9.388538\n",
      "2668  9.370270\n",
      "2669  9.381166\n",
      "2670  9.351503\n",
      "2671  9.365409\n",
      "\n",
      "[2672 rows x 1 columns]\n"
     ]
    }
   ],
   "source": [
    "print(X_train.shape, y_train.shape)\n",
    "print(X_test.shape, y_test.shape)\n",
    "print(X_val.shape, y_val.shape)\n",
    "print(X_train, y_train)"
   ]
  },
  {
   "cell_type": "code",
   "execution_count": 133,
   "metadata": {
    "id": "pa1y1AS4V40p"
   },
   "outputs": [
    {
     "name": "stderr",
     "output_type": "stream",
     "text": [
      "d:\\Conda\\envs\\bitenv\\lib\\site-packages\\sklearn\\utils\\validation.py:2739: UserWarning: X does not have valid feature names, but StandardScaler was fitted with feature names\n",
      "  warnings.warn(\n",
      "d:\\Conda\\envs\\bitenv\\lib\\site-packages\\sklearn\\utils\\validation.py:2739: UserWarning: X does not have valid feature names, but StandardScaler was fitted with feature names\n",
      "  warnings.warn(\n"
     ]
    },
    {
     "data": {
      "text/plain": [
       "['artifacts/target_scaler.joblib']"
      ]
     },
     "execution_count": 133,
     "metadata": {},
     "output_type": "execute_result"
    },
    {
     "data": {
      "image/png": "[encoded data removed]",
      "text/plain": [
       "<Figure size 640x480 with 1 Axes>"
      ]
     },
     "metadata": {},
     "output_type": "display_data"
    }
   ],
   "source": [
    "# feature scaling \n",
    "from sklearn.preprocessing import MinMaxScaler, StandardScaler\n",
    "def get_scaler(scaler):\n",
    "    scalers = {\n",
    "        \"minmax\": MinMaxScaler,\n",
    "        \"ss\": StandardScaler\n",
    "    }\n",
    "    return scalers.get(scaler.lower())()\n",
    "scaler = get_scaler('ss')\n",
    "\n",
    "test_featuresz= [[1724854479045.6724,1.004294e+10,86960.8555491039],[1730000000000,1.004294e+10,86000]]\n",
    "test_targetsz= np.array([85000,87000]).reshape(-1,1)\n",
    "\n",
    "X_train_ = scaler.fit_transform(X_train)\n",
    "X_test_ = scaler.transform(X_test)\n",
    "X_val_ = scaler.transform(X_val)\n",
    "test_featuresz= scaler.transform(test_featuresz)\n",
    "\n",
    "import joblib\n",
    "joblib.dump(scaler, 'artifacts/scaler.joblib')\n",
    "target_scaler=get_scaler('ss')\n",
    "plt.scatter(test_featuresz[:,0],test_featuresz[:,1])\n",
    "plt.scatter(X_test_[:,0],X_test_[:,1])\n",
    "y_train_ = target_scaler.fit_transform(y_train)\n",
    "y_val_ = target_scaler.transform(y_val)\n",
    "y_test_ = target_scaler.transform(y_test)\n",
    "test_targetsz=target_scaler.transform(test_targetsz)\n",
    "import joblib\n",
    "joblib.dump(target_scaler, 'artifacts/target_scaler.joblib')"
   ]
  },
  {
   "cell_type": "code",
   "execution_count": 134,
   "metadata": {
    "id": "txCA2lGpZ-zy"
   },
   "outputs": [
    {
     "name": "stdout",
     "output_type": "stream",
     "text": [
      "(2672, 3) (891, 3) (891, 3)\n",
      "torch.Size([4454, 3]) torch.Size([4454, 1])\n",
      "torch.Size([1782, 3]) torch.Size([1782, 1])\n",
      "torch.Size([891, 3]) torch.Size([891, 1])\n"
     ]
    }
   ],
   "source": [
    "import torch\n",
    "import torch.nn as nn\n",
    "import torch.nn.functional as F\n",
    "from torch.utils.data import TensorDataset, DataLoader\n",
    "\n",
    "batch_size = 64\n",
    "print(X_train_.shape,X_test_.shape,X_val_.shape)\n",
    "X_train_= np.concatenate((X_train_,X_test_,X_val_))\n",
    "y_train_ = np.concatenate((y_train_,y_test_,y_val_))\n",
    "train_features = torch.Tensor(X_train_)\n",
    "train_targets = torch.Tensor(y_train_)\n",
    "val_features = torch.Tensor(X_val_)\n",
    "val_targets = torch.Tensor(y_val_)\n",
    "test_features = torch.Tensor(np.concatenate((X_test_,X_val_)))\n",
    "test_targets = torch.Tensor(np.concatenate((y_test_,y_val_)))\n",
    "print(train_features.shape, train_targets.shape)\n",
    "train = TensorDataset(train_features, train_targets)\n",
    "val = TensorDataset(test_features, test_targets)\n",
    "print(test_features.shape, test_targets.shape)\n",
    "test = TensorDataset(test_features, test_targets)\n",
    "\n",
    "train_loader = DataLoader(train, batch_size=batch_size, shuffle=False, drop_last=True)\n",
    "val_loader = DataLoader(test, batch_size=batch_size, shuffle=False, drop_last=True)\n",
    "test_loader = DataLoader(test, batch_size=batch_size, shuffle=False, drop_last=True)\n",
    "test_loader_one = DataLoader(test, batch_size=batch_size, shuffle=False, drop_last=True)\n",
    "print(val_features.shape, val_targets.shape)"
   ]
  },
  {
   "cell_type": "markdown",
   "metadata": {
    "id": "75ItSecBaYaF"
   },
   "source": [
    "myLSTM class initiates a LSTM module based on PyTorch's nn.Module class.\n",
    "\n",
    "       Attributes:\n",
    "           hidden_dim (int): The number of nodes in each layer\n",
    "           layer_dim (str): The number of layers in the network\n",
    "           lstm (nn.LSTM): The LSTM model constructed with the input parameters.\n",
    "           fc (nn.Linear): The fully connected layer to convert the final state of LSTMs to our desired output shape.\n",
    "\n",
    "The __init__ method that initiates a LSTM instance.\n",
    "\n",
    "        Args:\n",
    "            input_dim (int): The number of nodes in the input layer\n",
    "            hidden_dim (int): The number of nodes in each layer\n",
    "            layer_dim (int): The number of layers in the network\n",
    "            output_dim (int): The number of nodes in the output layer\n",
    "            dropout_prob (float): The probability of nodes being dropped out\n",
    "\n",
    "        \n",
    "The forward method takes input tensor x and does forward propagation\n",
    "\n",
    "        Args:\n",
    "            x (torch.Tensor): The input tensor of the shape (batch size, sequence length, input_dim)\n",
    "\n",
    "        Returns:\n",
    "            torch.Tensor: The output tensor of the shape (batch size, output_dim)\n",
    "\n",
    "       "
   ]
  },
  {
   "cell_type": "markdown",
   "id": "f171fa3d",
   "metadata": {},
   "source": [
    "## 🤖 Model Training"
   ]
  },
  {
   "cell_type": "code",
   "execution_count": 135,
   "metadata": {
    "id": "rwL5HiEydfXi"
   },
   "outputs": [],
   "source": [
    "class myLSTM(nn.Module):\n",
    "    def __init__(self, input_dim, hidden_dim, layer_dim, output_dim, dropout_prob,device='cuda'):\n",
    "        super(myLSTM, self).__init__()\n",
    "        self.hidden_dim = hidden_dim\n",
    "        self.layer_dim = layer_dim\n",
    "        self.lstm = nn.LSTM(\n",
    "            input_dim, hidden_dim, layer_dim, batch_first=True, dropout=dropout_prob,device=device\n",
    "        )\n",
    "        # Fully connected layer\n",
    "        self.fc = nn.Linear(hidden_dim, output_dim)\n",
    "\n",
    "    def forward(self, x):\n",
    "        # Initializing hidden state for first input with zeros\n",
    "        h0 = torch.zeros(self.layer_dim, x.size(0), self.hidden_dim, device='cuda').requires_grad_()\n",
    "\n",
    "        # Initializing cell state for first input with zeros\n",
    "        c0 = torch.zeros(self.layer_dim, x.size(0), self.hidden_dim, device='cuda').requires_grad_()\n",
    "        \n",
    "        # Forward propagation by passing in the input, hidden state, and cell state into the model\n",
    "        out, (hn, cn) = self.lstm(x, (h0.detach(), c0.detach()))\n",
    "\n",
    "        # Reshaping the outputs in the shape of (batch_size, seq_length, hidden_size)\n",
    "        # so that it can fit into the fully connected layer\n",
    "        out = out[:, -1, :]\n",
    "        out = F.relu(out)\n",
    "        out = self.fc(out)\n",
    "        return out"
   ]
  },
  {
   "cell_type": "code",
   "execution_count": 136,
   "metadata": {
    "id": "Kdsp5oGQdrWP"
   },
   "outputs": [],
   "source": [
    "def get_model(model, model_params):\n",
    "    models = {\"lstm\": myLSTM }\n",
    "    return models.get(model.lower())(**model_params)"
   ]
  },
  {
   "cell_type": "code",
   "execution_count": 137,
   "metadata": {
    "id": "VUTkWuI3dvn8"
   },
   "outputs": [],
   "source": [
    "class Optimization:\n",
    "    def __init__(self, model, loss_fn, optimizer,scheduler):\n",
    "        self.model = model\n",
    "        self.loss_fn = loss_fn\n",
    "        self.optimizer = optimizer\n",
    "        self.train_losses = []\n",
    "        self.val_losses = []\n",
    "        self.scheduler = scheduler\n",
    "        \n",
    "    def train_step(self, x, y):\n",
    "        self.model.train() # Sets model to train mode\n",
    "        yhat = self.model(x) # Makes predictions\n",
    "        loss = self.loss_fn(y, yhat) # Computes loss\n",
    "        loss.backward() # Computes gradients\n",
    "        self.optimizer.step() # Updates parameters and zeroes gradients\n",
    "        self.optimizer.zero_grad()\n",
    "        return loss.item() # Returns the loss\n",
    "\n",
    "    def train(self, train_loader, val_loader, batch_size=64, n_epochs=50, n_features=2, device='cuda', scheduler=None):\n",
    "        model_path = f'artifacts/model2.pth'\n",
    "\n",
    "        for epoch in range(1, n_epochs + 1):\n",
    "            self.model.train()\n",
    "            batch_losses = []\n",
    "\n",
    "            for x_batch, y_batch in train_loader:\n",
    "                x_batch = x_batch.view([batch_size, -1, n_features]).to(device)\n",
    "                y_batch = y_batch.to(device)\n",
    "                loss = self.train_step(x_batch, y_batch)\n",
    "                batch_losses.append(loss)\n",
    "\n",
    "            training_loss = np.mean(batch_losses)\n",
    "            self.train_losses.append(training_loss)\n",
    "\n",
    "            # Валидация\n",
    "            self.model.eval()\n",
    "            with torch.no_grad():\n",
    "                batch_val_losses = []\n",
    "                for x_val, y_val in val_loader:\n",
    "                    x_val = x_val.view([batch_size, -1, n_features]).to(device)\n",
    "                    y_val = y_val.to(device)\n",
    "                    yhat = self.model(x_val)\n",
    "                    val_loss = self.loss_fn(y_val, yhat).item()\n",
    "                    batch_val_losses.append(val_loss)\n",
    "\n",
    "                validation_loss = np.mean(batch_val_losses)\n",
    "                self.val_losses.append(validation_loss)\n",
    "\n",
    "            # Шаг планировщика lr, если он передан\n",
    "            if scheduler is not None:\n",
    "                scheduler.step(validation_loss)\n",
    "\n",
    "            # Печать\n",
    "            if (epoch <= 50) or (epoch % 100 == 0):\n",
    "                print(\n",
    "                    f\"[{epoch}/{n_epochs}] Training loss: {training_loss:.6f}\\t Validation loss: {validation_loss:.6f}\"\n",
    "                )\n",
    "\n",
    "        # Сохранение модели\n",
    "        torch.save(self.model.state_dict(), model_path)\n",
    "\n",
    "    def evaluate(self, test_loader, batch_size=64, n_features=2,device='cuda'):\n",
    "        with torch.no_grad():\n",
    "            predictions = []\n",
    "            values = []\n",
    "            for x_test, y_test in test_loader:\n",
    "                x_test = x_test.view([batch_size, -1, n_features]).to(device)\n",
    "                y_test = y_test.to(device)\n",
    "                self.model.eval()\n",
    "                yhat = self.model(x_test)\n",
    "                predictions.append(yhat.to('cpu').detach().numpy())\n",
    "                values.append(y_test.to('cpu').detach().numpy())\n",
    "\n",
    "        return predictions, values\n",
    "\n",
    "    def plot_losses(self):\n",
    "        figure(figsize=(20, 10), dpi=80)\n",
    "        plt.plot(self.train_losses, label=\"Training loss\")\n",
    "        plt.plot(self.val_losses, label=\"Validation loss\")\n",
    "        plt.legend()\n",
    "        plt.title(\"Losses\")\n",
    "        plt.show()\n",
    "        plt.close()"
   ]
  },
  {
   "cell_type": "code",
   "execution_count": 138,
   "metadata": {
    "colab": {
     "base_uri": "https://localhost:8080/",
     "height": 1000
    },
    "id": "xO6ydwqadzvv",
    "outputId": "b02ded97-d8c5-4cf0-e219-de7fe066a78e"
   },
   "outputs": [
    {
     "name": "stdout",
     "output_type": "stream",
     "text": [
      "Using device: cuda\n"
     ]
    },
    {
     "name": "stderr",
     "output_type": "stream",
     "text": [
      "d:\\Conda\\envs\\bitenv\\lib\\site-packages\\torch\\optim\\lr_scheduler.py:62: UserWarning: The verbose parameter is deprecated. Please use get_last_lr() to access the learning rate.\n",
      "  warnings.warn(\n"
     ]
    },
    {
     "name": "stdout",
     "output_type": "stream",
     "text": [
      "[1/100] Training loss: 0.948565\t Validation loss: 1.676190\n",
      "[2/100] Training loss: 0.941693\t Validation loss: 1.664071\n",
      "[3/100] Training loss: 0.934531\t Validation loss: 1.650798\n",
      "[4/100] Training loss: 0.926415\t Validation loss: 1.635659\n",
      "[5/100] Training loss: 0.917137\t Validation loss: 1.618327\n",
      "[6/100] Training loss: 0.906342\t Validation loss: 1.598094\n",
      "[7/100] Training loss: 0.893754\t Validation loss: 1.574626\n",
      "[8/100] Training loss: 0.879303\t Validation loss: 1.547453\n",
      "[9/100] Training loss: 0.862389\t Validation loss: 1.514999\n",
      "[10/100] Training loss: 0.842218\t Validation loss: 1.476580\n",
      "[11/100] Training loss: 0.818879\t Validation loss: 1.430884\n",
      "[12/100] Training loss: 0.791498\t Validation loss: 1.377066\n",
      "[13/100] Training loss: 0.759651\t Validation loss: 1.313291\n",
      "[14/100] Training loss: 0.722648\t Validation loss: 1.238721\n",
      "[15/100] Training loss: 0.680742\t Validation loss: 1.153152\n",
      "[16/100] Training loss: 0.632944\t Validation loss: 1.054808\n",
      "[17/100] Training loss: 0.579499\t Validation loss: 0.944144\n",
      "[18/100] Training loss: 0.521453\t Validation loss: 0.821562\n",
      "[19/100] Training loss: 0.458697\t Validation loss: 0.688463\n",
      "[20/100] Training loss: 0.393726\t Validation loss: 0.548459\n",
      "[21/100] Training loss: 0.328991\t Validation loss: 0.410004\n",
      "[22/100] Training loss: 0.269561\t Validation loss: 0.287098\n",
      "[23/100] Training loss: 0.220013\t Validation loss: 0.192067\n",
      "[24/100] Training loss: 0.184482\t Validation loss: 0.124317\n",
      "[25/100] Training loss: 0.158422\t Validation loss: 0.077910\n",
      "[26/100] Training loss: 0.141180\t Validation loss: 0.047471\n",
      "[27/100] Training loss: 0.129112\t Validation loss: 0.028489\n",
      "[28/100] Training loss: 0.121159\t Validation loss: 0.017253\n",
      "[29/100] Training loss: 0.115261\t Validation loss: 0.010925\n",
      "[30/100] Training loss: 0.110974\t Validation loss: 0.007214\n",
      "[31/100] Training loss: 0.106986\t Validation loss: 0.005036\n",
      "[32/100] Training loss: 0.103114\t Validation loss: 0.003838\n",
      "[33/100] Training loss: 0.099553\t Validation loss: 0.003131\n",
      "[34/100] Training loss: 0.095767\t Validation loss: 0.002711\n",
      "[35/100] Training loss: 0.092244\t Validation loss: 0.002398\n",
      "[36/100] Training loss: 0.088332\t Validation loss: 0.002218\n",
      "[37/100] Training loss: 0.084735\t Validation loss: 0.002009\n",
      "[38/100] Training loss: 0.080805\t Validation loss: 0.001910\n",
      "[39/100] Training loss: 0.076890\t Validation loss: 0.001802\n",
      "[40/100] Training loss: 0.073202\t Validation loss: 0.001699\n",
      "[41/100] Training loss: 0.069681\t Validation loss: 0.001605\n",
      "[42/100] Training loss: 0.065707\t Validation loss: 0.001503\n",
      "[43/100] Training loss: 0.061833\t Validation loss: 0.001398\n",
      "[44/100] Training loss: 0.058281\t Validation loss: 0.001317\n",
      "[45/100] Training loss: 0.054813\t Validation loss: 0.001230\n",
      "[46/100] Training loss: 0.051124\t Validation loss: 0.001172\n",
      "[47/100] Training loss: 0.047962\t Validation loss: 0.001115\n",
      "[48/100] Training loss: 0.044516\t Validation loss: 0.001066\n",
      "[49/100] Training loss: 0.041424\t Validation loss: 0.001014\n",
      "[50/100] Training loss: 0.038313\t Validation loss: 0.000938\n",
      "[100/100] Training loss: 0.005493\t Validation loss: 0.000344\n"
     ]
    },
    {
     "data": {
      "image/png": "[encoded data removed]",
      "text/plain": [
       "<Figure size 1600x800 with 1 Axes>"
      ]
     },
     "metadata": {},
     "output_type": "display_data"
    }
   ],
   "source": [
    "import torch\n",
    "import torch.nn as nn\n",
    "import torch.optim as optim\n",
    "from torch.optim.lr_scheduler import ReduceLROnPlateau\n",
    "from datetime import datetime\n",
    "\n",
    "device = \"cuda\" if torch.cuda.is_available() else \"cpu\"\n",
    "print(f\"Using device: {device}\")\n",
    "\n",
    "# Параметры модели\n",
    "input_dim = len(X_train.columns)\n",
    "output_dim = 1\n",
    "hidden_dim = 512            \n",
    "layer_dim = 2              \n",
    "dropout = 0.3                \n",
    "batch_size = 64\n",
    "n_epochs = 100\n",
    "learning_rate = 1e-5      \n",
    "weight_decay = 1e-4\n",
    "\n",
    "# Создание модели\n",
    "model_params = {\n",
    "    'input_dim': input_dim,\n",
    "    'hidden_dim': hidden_dim,\n",
    "    'layer_dim': layer_dim,\n",
    "    'output_dim': output_dim,\n",
    "    'dropout_prob': dropout,\n",
    "    'device': device\n",
    "}\n",
    "\n",
    "model = get_model('lstm', model_params).to(device)\n",
    "\n",
    "# Функция потерь и оптимизатор\n",
    "loss_fn = nn.SmoothL1Loss()\n",
    "optimizer = optim.AdamW(model.parameters(), lr=learning_rate, weight_decay=weight_decay)\n",
    "\n",
    "# Добавляем scheduler\n",
    "scheduler = ReduceLROnPlateau(optimizer, mode='min', factor=0.5, patience=5, verbose=True)\n",
    "\n",
    "# Обучение\n",
    "opt = Optimization(model=model, loss_fn=loss_fn, optimizer=optimizer, scheduler=scheduler)\n",
    "\n",
    "opt.train(train_loader, val_loader, batch_size=batch_size, n_epochs=n_epochs, n_features=input_dim)\n",
    "opt.plot_losses()\n",
    "\n",
    "# Оценка\n",
    "predictions, values = opt.evaluate(\n",
    "    test_loader_one,\n",
    "    batch_size=batch_size,\n",
    "    n_features=input_dim\n",
    ")\n"
   ]
  },
  {
   "cell_type": "markdown",
   "id": "f530f9bd",
   "metadata": {},
   "source": [
    "## Model evaluation and saving"
   ]
  },
  {
   "cell_type": "code",
   "execution_count": 139,
   "metadata": {
    "colab": {
     "base_uri": "https://localhost:8080/",
     "height": 455
    },
    "id": "P9Xiu_sKeadK",
    "outputId": "d585cc7f-f6e8-4097-ec85-d30156e479a8"
   },
   "outputs": [
    {
     "data": {
      "text/html": [
       "<div>\n",
       "<style scoped>\n",
       "    .dataframe tbody tr th:only-of-type {\n",
       "        vertical-align: middle;\n",
       "    }\n",
       "\n",
       "    .dataframe tbody tr th {\n",
       "        vertical-align: top;\n",
       "    }\n",
       "\n",
       "    .dataframe thead th {\n",
       "        text-align: right;\n",
       "    }\n",
       "</style>\n",
       "<table border=\"1\" class=\"dataframe\">\n",
       "  <thead>\n",
       "    <tr style=\"text-align: right;\">\n",
       "      <th></th>\n",
       "      <th>value</th>\n",
       "      <th>prediction</th>\n",
       "    </tr>\n",
       "  </thead>\n",
       "  <tbody>\n",
       "    <tr>\n",
       "      <th>0</th>\n",
       "      <td>23137.330078</td>\n",
       "      <td>23570.009766</td>\n",
       "    </tr>\n",
       "    <tr>\n",
       "      <th>1</th>\n",
       "      <td>23725.152344</td>\n",
       "      <td>24206.449219</td>\n",
       "    </tr>\n",
       "    <tr>\n",
       "      <th>2</th>\n",
       "      <td>23539.683594</td>\n",
       "      <td>24694.400391</td>\n",
       "    </tr>\n",
       "    <tr>\n",
       "      <th>3</th>\n",
       "      <td>23451.574219</td>\n",
       "      <td>24441.630859</td>\n",
       "    </tr>\n",
       "    <tr>\n",
       "      <th>4</th>\n",
       "      <td>23340.343750</td>\n",
       "      <td>23327.392578</td>\n",
       "    </tr>\n",
       "    <tr>\n",
       "      <th>...</th>\n",
       "      <td>...</td>\n",
       "      <td>...</td>\n",
       "    </tr>\n",
       "    <tr>\n",
       "      <th>1723</th>\n",
       "      <td>16923.376953</td>\n",
       "      <td>17019.230469</td>\n",
       "    </tr>\n",
       "    <tr>\n",
       "      <th>1724</th>\n",
       "      <td>17149.923828</td>\n",
       "      <td>17087.769531</td>\n",
       "    </tr>\n",
       "    <tr>\n",
       "      <th>1725</th>\n",
       "      <td>16973.373047</td>\n",
       "      <td>17390.214844</td>\n",
       "    </tr>\n",
       "    <tr>\n",
       "      <th>1726</th>\n",
       "      <td>17085.634766</td>\n",
       "      <td>17231.820312</td>\n",
       "    </tr>\n",
       "    <tr>\n",
       "      <th>1727</th>\n",
       "      <td>16851.302734</td>\n",
       "      <td>17203.166016</td>\n",
       "    </tr>\n",
       "  </tbody>\n",
       "</table>\n",
       "<p>1728 rows × 2 columns</p>\n",
       "</div>"
      ],
      "text/plain": [
       "             value    prediction\n",
       "0     23137.330078  23570.009766\n",
       "1     23725.152344  24206.449219\n",
       "2     23539.683594  24694.400391\n",
       "3     23451.574219  24441.630859\n",
       "4     23340.343750  23327.392578\n",
       "...            ...           ...\n",
       "1723  16923.376953  17019.230469\n",
       "1724  17149.923828  17087.769531\n",
       "1725  16973.373047  17390.214844\n",
       "1726  17085.634766  17231.820312\n",
       "1727  16851.302734  17203.166016\n",
       "\n",
       "[1728 rows x 2 columns]"
      ]
     },
     "execution_count": 139,
     "metadata": {},
     "output_type": "execute_result"
    }
   ],
   "source": [
    "def inverse_transform(scaler, data, columns):\n",
    "    for col in columns:\n",
    "        data[col] = scaler.inverse_transform(data[col])\n",
    "    return data\n",
    "\n",
    "\n",
    "def format_predictions(predictions, values,scaler, data_test=None):\n",
    "    vals = np.concatenate(values, axis=0).ravel()\n",
    "    preds = np.concatenate(predictions, axis=0).ravel()\n",
    "    #data_result = pd.DataFrame(data={\"value\": vals, \"prediction\": preds}, index=data_test.head(len(vals)).index)\n",
    "    data_result = pd.DataFrame(data={\"value\": vals, \"prediction\": preds})\n",
    "    data_result = data_result.sort_index()\n",
    "    data_result = inverse_transform(scaler, data_result, [[\"value\", \"prediction\"]])\n",
    "    data_result['value']=np.expm1(data_result['value'])\n",
    "    data_result['prediction']=np.expm1(data_result['prediction'])\n",
    "    return data_result\n",
    "\n",
    "\n",
    "data_result = format_predictions(predictions, values, target_scaler, X_test)\n",
    "data_result"
   ]
  },
  {
   "cell_type": "code",
   "execution_count": 140,
   "metadata": {
    "colab": {
     "base_uri": "https://localhost:8080/"
    },
    "id": "z9g-rTHgepWv",
    "outputId": "4c984a58-bb3d-40e4-c3b4-e560c0db76d1"
   },
   "outputs": [
    {
     "name": "stdout",
     "output_type": "stream",
     "text": [
      "Mean Absolute Error:        1433.77392578125\n",
      "Root Mean Squared Error:    2040.0175857085153\n",
      "R^2 Score:                  0.9935938715934753\n"
     ]
    }
   ],
   "source": [
    "from sklearn.metrics import mean_absolute_error, mean_squared_error, r2_score\n",
    "\n",
    "def calculate_metrics(data):\n",
    "    result_metrics = {'mae' : mean_absolute_error(data.value, data.prediction),\n",
    "                      'rmse' : mean_squared_error(data.value, data.prediction) ** 0.5,\n",
    "                      'r2' : r2_score(data.value, data.prediction)}\n",
    "    \n",
    "    print(\"Mean Absolute Error:       \", result_metrics[\"mae\"])\n",
    "    print(\"Root Mean Squared Error:   \", result_metrics[\"rmse\"])\n",
    "    print(\"R^2 Score:                 \", result_metrics[\"r2\"])\n",
    "    return result_metrics\n",
    "\n",
    "result_metrics = calculate_metrics(data_result)\n"
   ]
  },
  {
   "cell_type": "code",
   "execution_count": 141,
   "metadata": {},
   "outputs": [],
   "source": [
    "def busted_format_predictions(predictions, values,  scaler):\n",
    "    vals = np.concatenate(values, axis=0).ravel()\n",
    "    preds = np.concatenate(predictions, axis=0).ravel()\n",
    "    data_result = pd.DataFrame(data={\"value\": vals, \"prediction\": preds})\n",
    "    data_result = data_result.sort_index()\n",
    "    data_result = inverse_transform(scaler, data_result, [[\"value\", \"prediction\"]])\n",
    "    return data_result"
   ]
  },
  {
   "cell_type": "code",
   "execution_count": 142,
   "metadata": {},
   "outputs": [],
   "source": [
    "torch.save(model.state_dict(), 'artifacts/model2.pth')"
   ]
  },
  {
   "cell_type": "code",
   "execution_count": 143,
   "metadata": {},
   "outputs": [],
   "source": [
    "from src.data_request import get_current_currency\n",
    "from src.model import myLSTM, inverse_transform\n",
    "import torch\n",
    "import torch.nn as nn\n",
    "import torch.nn.functional as F\n",
    "from torch.utils.data import TensorDataset, DataLoader\n",
    "\n",
    "import joblib\n",
    "import numpy as np"
   ]
  },
  {
   "cell_type": "code",
   "execution_count": 144,
   "metadata": {},
   "outputs": [],
   "source": [
    "from src.data_request import get_current_currency\n",
    "from src.model import myLSTM, inverse_transform\n",
    "def predict():\n",
    "    device =\"cpu\"\n",
    "    input_dim = 3\n",
    "    output_dim = 1\n",
    "    hidden_dim = 512\n",
    "    layer_dim = 2\n",
    "    dropout = 0.3\n",
    "\n",
    "    model_params = {'input_dim': input_dim,\n",
    "                    'hidden_dim' : hidden_dim,\n",
    "                    'layer_dim' : layer_dim,\n",
    "                    'output_dim' : output_dim,\n",
    "                    'dropout_prob' : dropout,\n",
    "                    'device' : device,}\n",
    "    model = myLSTM(**model_params)\n",
    "    model.load_state_dict(torch.load(\"artifacts/model2.pth\",map_location=torch.device('cpu')))\n",
    "    model.eval()\n",
    "    scaler = joblib.load(\"artifacts/scaler.joblib\")\n",
    "    target_scaler=joblib.load(\"artifacts/target_scaler.joblib\")\n",
    "    df = np.array((np.log1p(2.33116139e+12),np.log1p( 1.27102979e+11),np.log1p( 1.17197346e+05))).reshape(1,-1)\n",
    "    print('dd',df)\n",
    "    df=scaler.transform(df)\n",
    "    print(df)\n",
    "    \n",
    "    input_tensor = torch.Tensor(df)\n",
    "    input_tensor=TensorDataset(input_tensor)\n",
    "    input_tensor=DataLoader(input_tensor, batch_size=1, shuffle=False)\n",
    "    predictions=[]\n",
    "    with torch.no_grad():\n",
    "        for batch in input_tensor:\n",
    "            x=batch[0]\n",
    "            x=x.unsqueeze(1)\n",
    "            output=model(x)   \n",
    "            predictions.append(output.item())\n",
    "    data_result = inverse_transform(target_scaler, np.array(predictions).reshape(1, -1))\n",
    "    return data_result"
   ]
  },
  {
   "cell_type": "code",
   "execution_count": 145,
   "metadata": {},
   "outputs": [],
   "source": [
    "from src.data_request import get_current_currency\n",
    "#print(get_current_currency())"
   ]
  },
  {
   "cell_type": "code",
   "execution_count": 146,
   "metadata": {},
   "outputs": [
    {
     "name": "stdout",
     "output_type": "stream",
     "text": [
      "dd [[28.47738771 25.56826345 11.67162304]]\n",
      "[[2.8433589  1.05144173 2.90824793]]\n",
      "[array([124982.91061288])]\n"
     ]
    },
    {
     "name": "stderr",
     "output_type": "stream",
     "text": [
      "C:\\Users\\Asus\\AppData\\Local\\Temp\\ipykernel_14492\\1580292974.py:18: FutureWarning: You are using `torch.load` with `weights_only=False` (the current default value), which uses the default pickle module implicitly. It is possible to construct malicious pickle data which will execute arbitrary code during unpickling (See https://github.com/pytorch/pytorch/blob/main/SECURITY.md#untrusted-models for more details). In a future release, the default value for `weights_only` will be flipped to `True`. This limits the functions that could be executed during unpickling. Arbitrary objects will no longer be allowed to be loaded via this mode unless they are explicitly allowlisted by the user via `torch.serialization.add_safe_globals`. We recommend you start setting `weights_only=True` for any use case where you don't have full control of the loaded file. Please open an issue on GitHub for any issues related to this experimental feature.\n",
      "  model.load_state_dict(torch.load(\"artifacts/model2.pth\",map_location=torch.device('cpu')))\n",
      "d:\\Conda\\envs\\bitenv\\lib\\site-packages\\sklearn\\utils\\validation.py:2739: UserWarning: X does not have valid feature names, but StandardScaler was fitted with feature names\n",
      "  warnings.warn(\n"
     ]
    }
   ],
   "source": [
    "pred = predict()\n",
    "print([np.expm1(p) for p in pred],)"
   ]
  }
 ],
 "metadata": {
  "colab": {
   "authorship_tag": "ABX9TyNdx2tOboSWnSNOWToWymFj",
   "collapsed_sections": [],
   "include_colab_link": true,
   "name": "BitcoinPricePrediction2022.ipynb",
   "provenance": []
  },
  "kernelspec": {
   "display_name": "bitenv",
   "language": "python",
   "name": "python3"
  },
  "language_info": {
   "codemirror_mode": {
    "name": "ipython",
    "version": 3
   },
   "file_extension": ".py",
   "mimetype": "text/x-python",
   "name": "python",
   "nbconvert_exporter": "python",
   "pygments_lexer": "ipython3",
   "version": "3.9.15"
  }
 },
 "nbformat": 4,
 "nbformat_minor": 0
}
